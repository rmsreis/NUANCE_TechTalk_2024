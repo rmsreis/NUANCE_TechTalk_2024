{
 "cells": [
  {
   "cell_type": "markdown",
   "id": "ebd9388d-f6de-4dad-ab64-5459fa59d448",
   "metadata": {},
   "source": [
    "### NUANCE TECH TALK 2024\n",
    "\n",
    "# 1. Analysis of Electron Microscopy Images\n",
    "\n",
    "## Purpose\n",
    "This Jupyter notebook is designed to introduce basic techniques for processing electron microscopy images with Python. Users will learn how to load, crop, filter, and prepare images for publication.\n",
    "\n",
    "## Tools and Libraries\n",
    "We will be using Python libraries such as `matplotlib`, `numpy`, and `scikit-image` for image manipulation and visualization. These tools are essential for scientific image processing and will help us achieve professional results suitable for academic publication.\n",
    "\n",
    "## What You Will Learn\n",
    "- **Loading Images**: How to import electron microscopy images into Python.\n",
    "- **Cropping Images**: How to focus on the area of interest by cropping the image.\n",
    "- **Filtering Images**: Applying various filters to enhance the image quality.\n",
    "- **Preparing Images for Publication**: Adjusting image properties like contrast and brightness to ensure they are suitable for publication.\n",
    "\n",
    "By the end of this notebook, you will be familiar with the basic steps needed to process microscopy images and prepare them for a professional setting.\n",
    "\n",
    "Designed by Roberto dos Reis \\\\\n",
    "roberto.reis@northwestern.edu\n"
   ]
  },
  {
   "cell_type": "markdown",
   "id": "d18671cd-f216-4ab3-a22b-ed2f766cf1d1",
   "metadata": {},
   "source": [
    "## Import Libraries"
   ]
  },
  {
   "cell_type": "code",
   "execution_count": null,
   "id": "78e04948-b852-4438-8c62-273ce3752304",
   "metadata": {},
   "outputs": [],
   "source": [
    "import matplotlib.pyplot as plt\n",
    "import numpy as np\n",
    "from skimage import io"
   ]
  },
  {
   "cell_type": "markdown",
   "id": "ff31de3f-178f-48d0-b886-d126246196f1",
   "metadata": {},
   "source": [
    "## Download files for this notebook"
   ]
  },
  {
   "cell_type": "code",
   "execution_count": null,
   "id": "92481a52-3a23-4104-9595-a67447c1ea61",
   "metadata": {},
   "outputs": [],
   "source": [
    "\n",
    "\n"
   ]
  },
  {
   "cell_type": "code",
   "execution_count": null,
   "id": "807aad56-ab50-45c0-99ba-c0370d5c3fe0",
   "metadata": {},
   "outputs": [],
   "source": [
    "# Load an image file\n",
    "image_path = 'path_to_your_image_file.tif'  # Change this to the path of your microscopy image\n",
    "image = io.imread(image_path)\n",
    "\n",
    "# Display the image\n",
    "plt.imshow(image, cmap='gray')\n",
    "plt.title('Original Image')\n",
    "plt.axis('off')  # Hide axes ticks\n",
    "plt.show()\n"
   ]
  }
 ],
 "metadata": {
  "kernelspec": {
   "display_name": "Python 3 (ipykernel)",
   "language": "python",
   "name": "python3"
  },
  "language_info": {
   "codemirror_mode": {
    "name": "ipython",
    "version": 3
   },
   "file_extension": ".py",
   "mimetype": "text/x-python",
   "name": "python",
   "nbconvert_exporter": "python",
   "pygments_lexer": "ipython3",
   "version": "3.11.7"
  }
 },
 "nbformat": 4,
 "nbformat_minor": 5
}
